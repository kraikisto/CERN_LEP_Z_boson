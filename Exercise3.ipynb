{
 "cells": [
  {
   "cell_type": "code",
   "execution_count": null,
   "id": "9312da9b-b7d2-441d-95a3-64de0eee7795",
   "metadata": {},
   "outputs": [],
   "source": [
    "import pandas as pd\n",
    "import matplotlib.pyplot as plt\n",
    "import numpy as np\n",
    "from scipy.optimize import curve_fit\n",
    "\n",
    "dataset = pd.read_csv('https://raw.githubusercontent.com/kraikisto/CERN_LEP_Z_boson/main/dimuon_short91_f1_000.csv.gz',index_col=False)\n",
    "\n",
    "\n",
    "\n",
    "#section 1: \n",
    "lum1 = 629 #integrated luminosity for this section\n",
    "condition1 = np.abs(dataset91.ECM-88.5) < 0.1 #ECM for this section is near 88.5\n",
    "dataset.loc[condition1, \"LUM\"] = lum1 #set the luminosity under row \"LUM\"\n",
    "\n",
    "\n",
    "#section 2: \n",
    "lum2 = 647\n",
    "condition2 = np.abs(dataset91.ECM-89.5) < 0.1\n",
    "dataset.loc[condition2, \"LUM\"] = lum2\n",
    "\n",
    "\n",
    "#section 3: \n",
    "lum3 = 633\n",
    "condition3 = np.abs(dataset91.ECM-90.2) < 0.1\n",
    "dataset.loc[condition3 , \"LUM\"] = lum3\n",
    "\n",
    "\n",
    "#section 4: \n",
    "lum4 = 2274\n",
    "condition4 = np.abs(dataset91.ECM-91.2) < 0.1\n",
    "dataset.loc[condition4, \"LUM\"] = lum4\n",
    "\n",
    "\n",
    "#section 5: \n",
    "lum5 = 680\n",
    "condition5 = np.abs(dataset91.ECM-92) < 0.1\n",
    "dataset.loc[condition5, \"LUM\"] = lum5\n",
    "\n",
    "\n",
    "#section 6: \n",
    "lum6 = 634\n",
    "condition6 = np.abs(dataset91.ECM-93) < 0.1\n",
    "dataset.loc[condition6, \"LUM\"] = lum6\n",
    "\n",
    "\n",
    "#section 7: \n",
    "lum7 = 492\n",
    "condition7 = np.abs(dataset91.ECM-93.7) < 0.1\n",
    "dataset.loc[condition7, \"LUM\"] = lum7"
   ]
  },
  {
   "cell_type": "markdown",
   "id": "938dc7e3-005f-46aa-b8da-8c1749728c14",
   "metadata": {},
   "source": [
    "In this exercise you will use data of Z bosons decaying into 2 muons from 1991. You will analyse the properties of the Z boson using a method called line-width fit. For this you are given the integrated luminosity values of the accelerator for that year. Luminosity is quantity that characterises the performance of an accelerator. It has the following formula:\n",
    "\n",
    "$$\n",
    "L = \\dfrac{1}{\\sigma} \\dfrac{dN}{dt}\n",
    "$$\n",
    "\n",
    "Using the integrated luminosity values and the data that gives you the number of events, you can calculate the cross-section $\\sigma$ for each center-of-mass energy (ECM). In this case the cross-section measures the probability of a Z boson being produced when there is a collision in the accelerator. Calculate the cross sections and fit a Breit-Wigner function to them like you did on the previous exercise. Similarly this will give you the Z boson mass and decay width. If done correctly this method is much more accurate. "
   ]
  },
  {
   "cell_type": "markdown",
   "id": "088377d0-0542-4e6b-803f-3b3ad096cdbd",
   "metadata": {},
   "source": [
    "Note: The accelerator ran at 7 different ECM values in 1991. You can see them by running `dataset.ECM.unique()`. Sometimes the values are a bit off, but you can ignore that.  "
   ]
  },
  {
   "cell_type": "code",
   "execution_count": null,
   "id": "04ca799b-b92f-43d0-b045-67a3de564ac0",
   "metadata": {},
   "outputs": [],
   "source": [
    "#Calculate cross sections.\n",
    "\n",
    "\n",
    "#Fit Breit-Wigner function to them.\n",
    "\n",
    "\n",
    "#Plot both to see if they match.\n",
    "\n",
    "\n",
    "#Print out mass and decay width.\n",
    "\n"
   ]
  }
 ],
 "metadata": {
  "kernelspec": {
   "display_name": "Python 3 (ipykernel)",
   "language": "python",
   "name": "python3"
  },
  "language_info": {
   "codemirror_mode": {
    "name": "ipython",
    "version": 3
   },
   "file_extension": ".py",
   "mimetype": "text/x-python",
   "name": "python",
   "nbconvert_exporter": "python",
   "pygments_lexer": "ipython3",
   "version": "3.11.4"
  }
 },
 "nbformat": 4,
 "nbformat_minor": 5
}
