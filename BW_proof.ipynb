{
 "cells": [
  {
   "cell_type": "markdown",
   "id": "9074aa9d-dcb4-4c92-97fb-83654cc66c90",
   "metadata": {},
   "source": [
    "### Non-relativistic Breit-Wigner distribution\n",
    "\n",
    "Let's start with the non-relativistic version of the Breit-Wigner distribution. We can derive it using basic quantum mechanics:\n",
    "\n",
    "To begin with, let's say the Z boson has a wave function $|\\psi(t) \\rangle$. Its evolution is given by the schrödinger equation:\n",
    "\n",
    "$$\n",
    "i \\hbar \\frac{d}{dt} |\\psi(t) \\rangle = H |\\psi(t) \\rangle\n",
    "$$\n",
    "\n",
    "Since the Hamiltonian $H$ isn't time dependent it has a solution: $|\\psi(t) \\rangle = e^{-i H t/ \\hbar} |\\psi(0) \\rangle$. Since the Hamiltionian gives us the energy of the system, let's look at that. We can assume that there are no outside forces that would affect the Z boson, therefore it keeps a constant energy $M_0$, until decaying. Therefore we get:\n",
    "\n",
    "$$\n",
    "|\\psi(t) \\rangle = e^{-i M_0 t/ \\hbar} e^{-t/2\\tau} |\\psi(0) \\rangle\n",
    "$$\n",
    "\n",
    "where $\\tau$ is mean lifetime for Z boson. Now we can convert this into the energy domain by doing a Fourier transformation:\n",
    "\n",
    "$$\n",
    "f(E) = \\int \\limits_0^\\infty dt \\psi(t) e^{iEt}\n",
    "$$\n",
    "\n",
    "This is just a simple integral, which gives us $F(E) = \\frac{i \\psi(0)}{(M_0−E) − \\frac{i}{2 \\tau}}$. Now we can get the probability distribution simply by calculating:\n",
    "\n",
    "$$\n",
    "p(E) = |f(E)|^2 = \\frac{|\\psi(0)|^2}{(M_0−E)^2 + \\frac{1}{4 \\tau^2}} \n",
    "$$\n",
    "\n"
   ]
  },
  {
   "cell_type": "markdown",
   "id": "ea1ed5e6-8cd2-466b-bdaf-73cc2a5f7296",
   "metadata": {},
   "source": [
    "### Relativistic Breit-Wigner distribution\n",
    "\n",
    "Since our particles are moving at relativistic speeds, we need to use the relativistic Breit-Wigner distribution. This one is a lot more difficult to derive as it comes from Quantum field theory. Since the proper derivation is quite complex, we'll look at the problem through Feynman diagrams and skip some details, like the Z boson having spin. Let's start with the basic feynman diagram for the scattering of the Z boson:\n",
    "\n",
    "![alt text](https://raw.githubusercontent.com/kraikisto/CERN_LEP_Z_boson/main/1st_degree_FD.png)\n",
    "\n",
    "Here the internal propagator, the wavy line, is the propagator for the Z boson. The propagator for this has the value $\\frac{i}{E^2 - M^2}$. However, this trivial Feynman diagram isn't enough. The first correction we need to add is a single loop:\n",
    "\n",
    "![alt text](https://raw.githubusercontent.com/kraikisto/CERN_LEP_Z_boson/main/2nd_degree_FD.png)\n",
    "\n",
    "This propagator has a value of $\\frac{i}{E^2 - M^2} i \\Sigma \\frac{i}{E^2 - M^2}$. Next the feynman diagrams with 2 loops which there are 2: \n",
    "\n",
    "![alt text](https://raw.githubusercontent.com/kraikisto/CERN_LEP_Z_boson/main/3rd_degree_FD.png)\n",
    "\n",
    "These have a propagator: $\\frac{i}{E^2 - M^2} i \\Sigma \\frac{i}{E^2 - M^2} i \\Sigma \\frac{i}{E^2 - M^2}$.  At this point, you can see the pattern. We can continue this and when we take the sum of all the diagrams, its clearly just a geometric series, giving us the total propagator:\n",
    "\n",
    "$$\n",
    "\\frac{i}{E^2 - M^2 + \\Sigma}\n",
    "$$\n",
    "\n",
    "Using the optical theorem, which we will not cover here, we get a value for $\\Sigma = i M \\Gamma$ and get the propagator: \n",
    "\n",
    "$$\n",
    "\\Delta_{BW} = \\frac{i}{E^2 - M^2 + i M \\Gamma} = \\frac{M \\Gamma}{(E^2 - M^2)^2 + M^2 \\Gamma^2} + i\\frac{E^2 - M^2}{(E^2 - M^2)^2 + M^2 \\Gamma^2}\n",
    "$$\n",
    "\n",
    "This is the Breit-Wigner propagator. The probability distribution is just the propagator squared:\n",
    "\n",
    "$$\n",
    "|\\Delta_{BW}|^2 = (\\frac{M \\Gamma}{(E^2 - M^2)^2 + M^2 \\Gamma^2})^2 + (\\frac{E^2 - M^2}{(E^2 - M^2)^2 + M^2 \\Gamma^2})^2 = \\frac{(E^2 - M^2)^2 + M^2 \\Gamma^2}{((E^2 - M^2)^2 + M^2 \\Gamma^2)^2} = \\frac{1}{(E^2 - M^2)^2 + M^2 \\Gamma^2}\n",
    "$$\n",
    "\n",
    "Lastly, for this to be a probability distribution, we have to normalise it. This is done by adding a constant $k$ to the numerator:\n",
    "\n",
    "$$\n",
    "f(E) = \\frac{k}{(E^2 - M^2)^2 + M^2 \\Gamma^2}\n",
    "$$\n",
    "\n",
    "where the constant has to be $k = \\dfrac{2\\sqrt{2}M \\Gamma \\gamma}{\\pi\\sqrt{M^2 + \\gamma}}$ with $\\gamma = \\sqrt{M^2(M^2 + \\Gamma^2)}$ for the distribution to be normalised. "
   ]
  }
 ],
 "metadata": {
  "kernelspec": {
   "display_name": "Python 3 (ipykernel)",
   "language": "python",
   "name": "python3"
  },
  "language_info": {
   "codemirror_mode": {
    "name": "ipython",
    "version": 3
   },
   "file_extension": ".py",
   "mimetype": "text/x-python",
   "name": "python",
   "nbconvert_exporter": "python",
   "pygments_lexer": "ipython3",
   "version": "3.11.4"
  }
 },
 "nbformat": 4,
 "nbformat_minor": 5
}
