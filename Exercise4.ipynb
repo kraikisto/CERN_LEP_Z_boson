{
 "cells": [
  {
   "cell_type": "code",
   "execution_count": null,
   "id": "f4225486-5dd6-4013-a8cd-e9963591f828",
   "metadata": {},
   "outputs": [],
   "source": [
    "import pandas as pd\n",
    "import matplotlib.pyplot as plt\n",
    "import numpy as np\n",
    "from scipy.optimize import curve_fit\n",
    "\n",
    "dataset91 = pd.read_csv('https://raw.githubusercontent.com/kraikisto/CERN_LEP_Z_boson/main/dimuon_short91_f1_000.csv.gz',index_col=False)\n",
    "dataset92 = pd.read_csv('https://raw.githubusercontent.com/kraikisto/CERN_LEP_Z_boson/main/dimuon_short92_e2_000.csv.gz',index_col=False)\n",
    "dataset93 = pd.read_csv('https://raw.githubusercontent.com/kraikisto/CERN_LEP_Z_boson/main/dimuon_short93_d2_000.csv.gz',index_col=False)\n",
    "dataset94 = pd.read_csv('https://raw.githubusercontent.com/kraikisto/CERN_LEP_Z_boson/main/dimuon_short94_c2_000.csv.gz',index_col=False)\n",
    "\n",
    "dataset_LEP = pd.concat([dataset91, dataset92, dataset93, dataset94]) #combines the datasets\n",
    "dataset_LHC = pd.read_csv('https://opendata.cern.ch/record/5201/files/Dimuon_DoubleMu.csv')\n",
    "\n",
    "#section 1: \n",
    "lum1 = 629 #integrated luminosity for this section\n",
    "condition1 = np.abs(dataset91.ECM-88.5) < 0.1 #ECM for this section is near 88.5\n",
    "dataset.loc[condition1, \"LUM\"] = lum1 #set the luminosity under row \"LUM\"\n",
    "\n",
    "\n",
    "#section 2: \n",
    "lum2 = 647\n",
    "condition2 = np.abs(dataset91.ECM-89.5) < 0.1\n",
    "dataset.loc[condition2, \"LUM\"] = lum2\n",
    "\n",
    "\n",
    "#section 3: \n",
    "lum3 = 633\n",
    "condition3 = np.abs(dataset91.ECM-90.2) < 0.1\n",
    "dataset.loc[condition3 , \"LUM\"] = lum3\n",
    "\n",
    "\n",
    "#section 4: \n",
    "lum4 = 2274\n",
    "condition4 = np.abs(dataset91.ECM-91.2) < 0.1\n",
    "dataset.loc[condition4, \"LUM\"] = lum4\n",
    "\n",
    "\n",
    "#section 5: \n",
    "lum5 = 680\n",
    "condition5 = np.abs(dataset91.ECM-92) < 0.1\n",
    "dataset.loc[condition5, \"LUM\"] = lum5\n",
    "\n",
    "\n",
    "#section 6: \n",
    "lum6 = 634\n",
    "condition6 = np.abs(dataset91.ECM-93) < 0.1\n",
    "dataset.loc[condition6, \"LUM\"] = lum6\n",
    "\n",
    "\n",
    "#section 7: \n",
    "lum7 = 492\n",
    "condition7 = np.abs(dataset91.ECM-93.7) < 0.1\n",
    "dataset.loc[condition7, \"LUM\"] = lum7\n",
    "\n",
    "#Removing some faulty data:\n",
    "dataset_LEP = dataset_LEP[dataset_LEP.PZ1 != '**********'] #removes datapoints where PZ1 is **********\n",
    "dataset_LEP = dataset_LEP.astype({'PZ1': 'float64'}) #convert the strings to floats for the upcoming calculations\n",
    "\n",
    "#Removing negative values inside the square root:\n",
    "dataset_LEP = dataset_LEP[(dataset_LEP.E1 + dataset_LEP.E2)**2 - (dataset_LEP.PX1 + dataset_LEP.PX2)**2 - (dataset_LEP.PZ1 + dataset_LEP.PZ2)**2 - (dataset_LEP.PY1 + dataset_LEP.PY2)**2 > 0]\n",
    "dataset_LHC = dataset[(dataset.E1 + dataset.E2)**2 - (dataset.PX1 + dataset.PX2)**2 - (dataset.PZ1 + dataset.PZ2)**2 - (dataset.PY1 + dataset.PY2)**2 > 0]\n",
    "\n",
    "#Calculating invariant mass:\n",
    "dataset_LEP[\"M\"] = np.sqrt((dataset_LEP.E1 + dataset_LEP.E2)**2 - (dataset_LEP.PX1 + dataset_LEP.PX2)**2 - (dataset_LEP.PZ1 + dataset_LEP.PZ2)**2 - (dataset_LEP.PY1 + dataset_LEP.PY2)**2)\n",
    "dataset_LHC[\"M\"] = np.sqrt((dataset_LHC.E1 + dataset_LHC.E2)**2 - (dataset_LHC.PX1 + dataset_LHC.PX2)**2 - (dataset_LHC.PZ1 + dataset_LHC.PZ2)**2 - (dataset_LHC.PY1 + dataset_LHC.PY2)**2)"
   ]
  },
  {
   "cell_type": "markdown",
   "id": "26d2b0f3-802b-4fb7-ae40-2878f3ee41bf",
   "metadata": {},
   "source": [
    "Here you are given 2 similar datasets, one from LHC and one from LEP. You can calculate the Z boson mass and decay width using both datasets just like you did on the previous exercises. Which one gives better results? Why?\n",
    "\n",
    "You can also improve the results by removing bad datapoints. For LEP the dataset gives us the amount of missing momentum `dataset_LEP.MISSPT`. Since momentum should be conserved, if it isn't it might mean something went wrong with the measurement. Similarly for LHC we have pseudorapidity $\\eta$. This discribes the angle at which the muon is going. If it's large, it's going close to the direction of the beam and if it's small it's going straight at the wall. This is preferred since, going straight through the barrel it will have to go through less distance, meaning less scattering, which can mess with the results. \n",
    "\n",
    "Try removing large numbers of both of these to see how close to the actual values you can get. You can also try changing the range in the plot to improve the result. "
   ]
  },
  {
   "cell_type": "code",
   "execution_count": null,
   "id": "b964395a-fbcd-49f0-8e97-4b7bb55929ca",
   "metadata": {},
   "outputs": [],
   "source": [
    "#Solve M and Gamma for both dataset: which dataset gives better results and why?\n",
    "\n",
    "\n",
    "#Improve the data by removing bad measurements: See if that improves the results\n",
    "\n",
    "\n"
   ]
  }
 ],
 "metadata": {
  "kernelspec": {
   "display_name": "Python 3 (ipykernel)",
   "language": "python",
   "name": "python3"
  },
  "language_info": {
   "codemirror_mode": {
    "name": "ipython",
    "version": 3
   },
   "file_extension": ".py",
   "mimetype": "text/x-python",
   "name": "python",
   "nbconvert_exporter": "python",
   "pygments_lexer": "ipython3",
   "version": "3.11.4"
  }
 },
 "nbformat": 4,
 "nbformat_minor": 5
}
