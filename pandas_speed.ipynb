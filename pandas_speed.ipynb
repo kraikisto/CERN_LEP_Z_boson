{
 "cells": [
  {
   "cell_type": "markdown",
   "id": "aac4d11e-019f-4bbe-a1ec-de683f2088bf",
   "metadata": {},
   "source": [
    "Is pandas really faster? Well the answer is most of the time. A bunch of the more advanced python librabries like numpy and pandas use vectorisation the speed up their functions. In vectorisation, instead of running through the values one by one, we perform the same operation on a bunch of values saved as a vector. This is possible because modern CPUs have multiple cores. Traditionally processors could only hold one value and thus had to process one value at a time. Modern multi-core processors can hold multiple values and therefore run the same operation on a vector of values if you program it to do so. Let's now demonstrate this is a simple example comparing a columns of data:"
   ]
  },
  {
   "cell_type": "code",
   "execution_count": null,
   "id": "d6af74f0-e193-4bdc-81f3-13cd642a8a20",
   "metadata": {},
   "outputs": [],
   "source": [
    "#A simple comparison of 2 columns as an example\n",
    "dataset[dataset.PT1 != dataset.PT2]  #pandas using vectorisation\n",
    "df.query('A != B') #query from numexpr library\n",
    "dataset[[x != y for x, y in zip(dataset.PT1, dataset.PT2)]] #normal for loop (list comprehension)"
   ]
  },
  {
   "cell_type": "markdown",
   "id": "399523d3-f723-491b-aac9-43eb27e49951",
   "metadata": {},
   "source": [
    "![comparison](https://raw.githubusercontent.com/kraikisto/CERN_LEP_Z_boson/main/comparisonk.pdf)"
   ]
  },
  {
   "cell_type": "markdown",
   "id": "43ff3b22-0530-40f9-b487-e92813afe04e",
   "metadata": {},
   "source": [
    "\n",
    "\n",
    "\n",
    "For string string type data vectorisation is a bit difficult:"
   ]
  },
  {
   "cell_type": "markdown",
   "id": "fc4d5cae-c437-4709-b4d5-68e98761d789",
   "metadata": {},
   "source": [
    "If data is string or mixed for loop is faster:"
   ]
  },
  {
   "cell_type": "code",
   "execution_count": null,
   "id": "7cd90018-2af2-4cdb-97ee-9b96fccb6844",
   "metadata": {},
   "outputs": [],
   "source": [
    "#A simple comparison of 2 columns as an example\n",
    "dataset[dataset.PT1 != dataset.PT2]  #pandas using vectorisation\n",
    "dataset[[x != y for x, y in zip(dataset.PT1, dataset.PT2)]] #normal for loop (list comprehension)"
   ]
  },
  {
   "cell_type": "markdown",
   "id": "5bfe9b35-0530-4527-9987-b03000d1dc2c",
   "metadata": {},
   "source": [
    "It's important to note that pandas here is much easier to read than the for loop. \n",
    "\n",
    "Even in numbers pandas sometimes loses to numpy (which uses vectorisation). It seems that specificly .values is faster (don't know why)."
   ]
  },
  {
   "cell_type": "code",
   "execution_count": 16,
   "id": "02f7c043-a75a-4ce3-b79d-d2c69cdc88c8",
   "metadata": {},
   "outputs": [],
   "source": [
    "dataset[dataset.PT1.values != dataset.PT2.values] #.values returns a numpy array"
   ]
  },
  {
   "cell_type": "markdown",
   "id": "8ed25a46-e766-4fec-a41c-b2ce7f1d67d0",
   "metadata": {},
   "source": [
    "For comparison, counting the number of values pandas is actually faster than numpy or vanilla python."
   ]
  },
  {
   "cell_type": "code",
   "execution_count": null,
   "id": "2f850351-e609-4336-bb35-ff2287a5003a",
   "metadata": {},
   "outputs": [],
   "source": [
    "#here we count the number of values of pandas.series object\n",
    "series.value_counts(sort=False).to_dict() # value_counts from pandas\n",
    "dict(zip(*np.unique(series, return_counts=True))) # np.unique from numpy\n",
    "Counter(series) #counter from collections "
   ]
  },
  {
   "cell_type": "markdown",
   "id": "0aed5a7d-4ea1-4528-ba3c-3136898f3522",
   "metadata": {},
   "source": [
    "Note: in pandas some functions don't use vectorisation. iterrows() and apply() both lose to a normal loop (using list comprehension, they beat it otherwise). "
   ]
  },
  {
   "cell_type": "code",
   "execution_count": null,
   "id": "58a826dc-71cf-4084-91ea-9b963824bd4b",
   "metadata": {},
   "outputs": [],
   "source": []
  }
 ],
 "metadata": {
  "kernelspec": {
   "display_name": "Python 3 (ipykernel)",
   "language": "python",
   "name": "python3"
  },
  "language_info": {
   "codemirror_mode": {
    "name": "ipython",
    "version": 3
   },
   "file_extension": ".py",
   "mimetype": "text/x-python",
   "name": "python",
   "nbconvert_exporter": "python",
   "pygments_lexer": "ipython3",
   "version": "3.7.16"
  }
 },
 "nbformat": 4,
 "nbformat_minor": 5
}
