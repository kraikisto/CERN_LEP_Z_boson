{
 "cells": [
  {
   "cell_type": "code",
   "execution_count": null,
   "id": "a0c292d0-a072-4147-88d5-591ab2d905a2",
   "metadata": {},
   "outputs": [],
   "source": [
    "import pandas as pd\n",
    "import matplotlib.pyplot as plt\n",
    "import numpy as np\n",
    "from scipy.optimize import curve_fit\n",
    "\n",
    "dataset91 = pd.read_csv('https://raw.githubusercontent.com/kraikisto/CERN_LEP_Z_boson/main/dimuon_short91_f1_000.csv.gz',index_col=False)\n",
    "dataset92 = pd.read_csv('https://raw.githubusercontent.com/kraikisto/CERN_LEP_Z_boson/main/dimuon_short92_e2_000.csv.gz',index_col=False)\n",
    "dataset93 = pd.read_csv('https://raw.githubusercontent.com/kraikisto/CERN_LEP_Z_boson/main/dimuon_short93_d2_000.csv.gz',index_col=False)\n",
    "dataset94 = pd.read_csv('https://raw.githubusercontent.com/kraikisto/CERN_LEP_Z_boson/main/dimuon_short94_c2_000.csv.gz',index_col=False)\n",
    "dataset = pd.concat([dataset91, dataset92, dataset93, dataset94]) #combines the datasets\n",
    "\n",
    "#Removing some faulty data:\n",
    "dataset = dataset[dataset.PZ1 != '**********'] #removes datapoints where PZ1 is **********\n",
    "dataset = dataset.astype({'PZ1': 'float64'}) #convert the strings to floats for the upcoming calculations\n",
    "\n",
    "#Removing negative values inside the square root:\n",
    "dataset = dataset[(dataset.E1 + dataset.E2)**2 - (dataset.PX1 + dataset.PX2)**2 - (dataset.PZ1 + dataset.PZ2)**2 - (dataset.PY1 + dataset.PY2)**2 > 0]\n",
    "\n",
    "#Calculating invariant mass:\n",
    "dataset[\"M\"] = np.sqrt((dataset.E1 + dataset.E2)**2 - (dataset.PX1 + dataset.PX2)**2 - (dataset.PZ1 + dataset.PZ2)**2 - (dataset.PY1 + dataset.PY2)**2)"
   ]
  },
  {
   "cell_type": "markdown",
   "id": "60326612-fc39-4d55-acca-be7ac1b08284",
   "metadata": {},
   "source": [
    "In the previous exercise we plotted the invariant masses for Z boson using real data from LEP. From the plot you asked to guess the mass of the Z boson. This time we will do the same using a more precise method. Because we are talking about phenomena that happen in the quantum level, the measurements we do are impacted by the randomness we have in quantum physics. When measuring for the Z boson mass, the results are distributed in what is called a Breit-Wigner distribution:\n",
    "\n",
    "$$\n",
    "f(E) = \\dfrac{k}{(E^2 - M^2)^2 + M^2 \\Gamma^2} \n",
    "$$\n",
    "\n",
    "where $k = \\dfrac{2\\sqrt{2}M \\Gamma \\gamma}{\\pi\\sqrt{M^2 + \\gamma}}$ with $\\gamma = \\sqrt{M^2(M^2 + \\Gamma^2)}$ which are in natural units $\\hbar = c = 1$. $\\Gamma$ is called the decay width or full width at half maximum and describes the width of the peak. More specifically it is the distance between the points in the graph that are half of the maximum value.\n",
    "\n",
    "In this exercise you will plot a histogram of the invariant mass values, limited around the peak. To this you will fit the Breit-Wigner distribution. From the fit you want to get accurate values for the Z boson mass and decay width."
   ]
  },
  {
   "cell_type": "markdown",
   "id": "8fd554c5-c254-4731-8b59-46292e502363",
   "metadata": {},
   "source": [
    "The needed functions for this exercise:\n",
    "\n",
    "- For fitting use `plt.curve_fit()`. For it you will need to input a function, x values, y values and initial guesses. \n",
    "\n",
    "- If you want to calculate correct errors use `sqrt(y)` as the value of the sigma argument (where y is the height of the bars).\n",
    "\n",
    "- You can get the (x,y) points for fitting from the histogram object, which gives the height of the bars and their placement.\n",
    "\n",
    "- For initial guesses, you can use the histogram to get approximate values for them. "
   ]
  },
  {
   "cell_type": "code",
   "execution_count": null,
   "id": "ef21ff1e-9e13-4841-a8ee-48f138dd218f",
   "metadata": {},
   "outputs": [],
   "source": [
    "def breitwigner(E, gamma, M, a, b, A):\n",
    "    return a*E+b+A*( (2*np.sqrt(2)*M*gamma*np.sqrt(M**2*(M**2+gamma**2)))/(np.pi*np.sqrt(M**2+np.sqrt(M**2*(M**2+gamma**2)))) )/((E**2-M**2)**2+M**2*gamma**2)\n",
    "\n",
    "\n",
    "#Create a histogram only around the peak.\n",
    "\n",
    "\n",
    "#Fit the Breit-Wigner function to the histogram.\n",
    "\n",
    "\n",
    "#Plot both of them in the same picture to see if the fit is accurate. \n",
    "\n",
    "\n",
    "#Print out values for the Z boson mass and decay width.\n"
   ]
  }
 ],
 "metadata": {
  "kernelspec": {
   "display_name": "Python 3 (ipykernel)",
   "language": "python",
   "name": "python3"
  },
  "language_info": {
   "codemirror_mode": {
    "name": "ipython",
    "version": 3
   },
   "file_extension": ".py",
   "mimetype": "text/x-python",
   "name": "python",
   "nbconvert_exporter": "python",
   "pygments_lexer": "ipython3",
   "version": "3.11.4"
  }
 },
 "nbformat": 4,
 "nbformat_minor": 5
}
